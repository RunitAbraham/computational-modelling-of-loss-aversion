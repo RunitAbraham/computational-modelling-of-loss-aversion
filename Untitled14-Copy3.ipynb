{
 "cells": [
  {
   "cell_type": "code",
   "execution_count": 1,
   "id": "a702cfc3-e936-4139-b590-da64b4b7f580",
   "metadata": {},
   "outputs": [],
   "source": [
    "import hddm\n",
    "import pandas as pd\n",
    "import pickle\n",
    "import numpy as np"
   ]
  },
  {
   "cell_type": "code",
   "execution_count": null,
   "id": "3c7d0db3-187d-4bc9-b2a9-258c895b4c01",
   "metadata": {},
   "outputs": [],
   "source": []
  },
  {
   "cell_type": "code",
   "execution_count": 2,
   "id": "ff044669-6c9f-4c6c-af1a-13502a27bfe9",
   "metadata": {},
   "outputs": [
    {
     "data": {
      "text/html": [
       "<div>\n",
       "<style scoped>\n",
       "    .dataframe tbody tr th:only-of-type {\n",
       "        vertical-align: middle;\n",
       "    }\n",
       "\n",
       "    .dataframe tbody tr th {\n",
       "        vertical-align: top;\n",
       "    }\n",
       "\n",
       "    .dataframe thead th {\n",
       "        text-align: right;\n",
       "    }\n",
       "</style>\n",
       "<table border=\"1\" class=\"dataframe\">\n",
       "  <thead>\n",
       "    <tr style=\"text-align: right;\">\n",
       "      <th></th>\n",
       "      <th>subj_idx</th>\n",
       "      <th>response</th>\n",
       "      <th>rt</th>\n",
       "      <th>gain</th>\n",
       "      <th>loss</th>\n",
       "    </tr>\n",
       "  </thead>\n",
       "  <tbody>\n",
       "    <tr>\n",
       "      <th>0</th>\n",
       "      <td>1</td>\n",
       "      <td>1</td>\n",
       "      <td>3.790270</td>\n",
       "      <td>12</td>\n",
       "      <td>-7</td>\n",
       "    </tr>\n",
       "    <tr>\n",
       "      <th>1</th>\n",
       "      <td>1</td>\n",
       "      <td>1</td>\n",
       "      <td>2.003780</td>\n",
       "      <td>10</td>\n",
       "      <td>-15</td>\n",
       "    </tr>\n",
       "    <tr>\n",
       "      <th>2</th>\n",
       "      <td>1</td>\n",
       "      <td>0</td>\n",
       "      <td>3.993464</td>\n",
       "      <td>2</td>\n",
       "      <td>-3</td>\n",
       "    </tr>\n",
       "    <tr>\n",
       "      <th>3</th>\n",
       "      <td>1</td>\n",
       "      <td>0</td>\n",
       "      <td>4.908444</td>\n",
       "      <td>10</td>\n",
       "      <td>-12</td>\n",
       "    </tr>\n",
       "    <tr>\n",
       "      <th>4</th>\n",
       "      <td>1</td>\n",
       "      <td>1</td>\n",
       "      <td>1.064644</td>\n",
       "      <td>12</td>\n",
       "      <td>-3</td>\n",
       "    </tr>\n",
       "  </tbody>\n",
       "</table>\n",
       "</div>"
      ],
      "text/plain": [
       "   subj_idx  response        rt  gain  loss\n",
       "0         1         1  3.790270    12    -7\n",
       "1         1         1  2.003780    10   -15\n",
       "2         1         0  3.993464     2    -3\n",
       "3         1         0  4.908444    10   -12\n",
       "4         1         1  1.064644    12    -3"
      ]
     },
     "execution_count": 2,
     "metadata": {},
     "output_type": "execute_result"
    }
   ],
   "source": [
    "data = pd.read_csv('kkdata.csv')\n",
    "data.head()\n"
   ]
  },
  {
   "cell_type": "code",
   "execution_count": 3,
   "id": "ccaf46b9-a43f-410d-917e-252bab5dc2ba",
   "metadata": {},
   "outputs": [
    {
     "name": "stdout",
     "output_type": "stream",
     "text": [
      "No model attribute --> setting up standard HDDM\n",
      "Set model to ddm\n"
     ]
    }
   ],
   "source": [
    "m = hddm.models.HDDMRegressor(data, ['v ~ I(gain + loss)'], include=([\"v\", \"a\", \"t\",\"z\"]), group_only_regressors=False)"
   ]
  },
  {
   "cell_type": "code",
   "execution_count": 4,
   "id": "4948d7f9-82d4-4d43-9f06-cb5c0d2cc444",
   "metadata": {},
   "outputs": [
    {
     "name": "stderr",
     "output_type": "stream",
     "text": [
      "/opt/conda/lib/python3.8/site-packages/scipy/optimize/_optimize.py:2309: RuntimeWarning: invalid value encountered in double_scalars\n",
      "  tmp2 = (x - v) * (fx - fw)\n"
     ]
    }
   ],
   "source": [
    "m.find_starting_values()"
   ]
  },
  {
   "cell_type": "code",
   "execution_count": null,
   "id": "221f7872-822e-41c6-804f-df24591ee73f",
   "metadata": {},
   "outputs": [
    {
     "name": "stdout",
     "output_type": "stream",
     "text": [
      " [-----------------89%-------------     ] 1785 of 2000 complete in 1217.8 sec"
     ]
    }
   ],
   "source": [
    "import os\n",
    "modelName = 'kk_no_lambda'\n",
    "if not os.path.exists('savedModels/{}'.format(modelName)):\n",
    "    os.makedirs('savedModels/{}'.format(modelName))\n",
    "\n",
    "m.sample(2000, burn=400, dbname='savedModels/{}/db_{}'.format(modelName, modelName), db='pickle')"
   ]
  },
  {
   "cell_type": "code",
   "execution_count": null,
   "id": "d75d9d8d-0810-4439-98e9-dc3d63d5f6ad",
   "metadata": {},
   "outputs": [],
   "source": [
    "m.save('savedModels/{}/{}'.format(modelName, modelName))"
   ]
  },
  {
   "cell_type": "code",
   "execution_count": null,
   "id": "ed3a2957-7449-43fe-8a8e-eadc0693e55c",
   "metadata": {},
   "outputs": [],
   "source": [
    "#m = hddm.load('savedModels/{}/{}'.format(modelName, modelName))"
   ]
  },
  {
   "cell_type": "code",
   "execution_count": null,
   "id": "0ebb0f1f-a4ee-466f-9fc9-4ef97b23d168",
   "metadata": {},
   "outputs": [],
   "source": [
    "# Print the model statistics\n",
    "\n",
    "m.dic"
   ]
  },
  {
   "cell_type": "code",
   "execution_count": null,
   "id": "ef77d6a4-5c9a-468b-a55d-5aa1a9e4cdd5",
   "metadata": {},
   "outputs": [],
   "source": [
    "m.gen_stats()"
   ]
  },
  {
   "cell_type": "code",
   "execution_count": null,
   "id": "b55dcf52-d186-461a-9518-5a88e6a18d87",
   "metadata": {},
   "outputs": [],
   "source": [
    "import os\n",
    "m = hddm.load('savedModels/{}/{}'.format(modelName, modelName))\n",
    "modelParamsDF = m.nodes_db\n",
    "modelParamsDF.to_csv('savedModels/{}/{}_nodes.csv'.format(modelName, modelName))\n",
    "model_stats = m.gen_stats()\n",
    "# Create the directory for the model if it doesn't exist\n",
    "model_dir = 'savedModels/{}'.format(modelName)\n",
    "if not os.path.exists(model_dir):\n",
    "    os.makedirs(model_dir)\n",
    "\n",
    "# Save the stats to a CSV file\n",
    "model_stats.to_csv('{}/{}_stats.csv'.format(model_dir, modelName))"
   ]
  },
  {
   "cell_type": "code",
   "execution_count": null,
   "id": "34013e77-7386-4102-b419-2d03c313f9cd",
   "metadata": {},
   "outputs": [],
   "source": []
  }
 ],
 "metadata": {
  "kernelspec": {
   "display_name": "Python 3 (ipykernel)",
   "language": "python",
   "name": "python3"
  },
  "language_info": {
   "codemirror_mode": {
    "name": "ipython",
    "version": 3
   },
   "file_extension": ".py",
   "mimetype": "text/x-python",
   "name": "python",
   "nbconvert_exporter": "python",
   "pygments_lexer": "ipython3",
   "version": "3.8.13"
  }
 },
 "nbformat": 4,
 "nbformat_minor": 5
}
