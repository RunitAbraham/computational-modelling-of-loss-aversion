{
 "cells": [
  {
   "cell_type": "code",
   "execution_count": 7,
   "id": "e81e7020-8bc1-47b3-9135-049f9e4e30cf",
   "metadata": {},
   "outputs": [
    {
     "name": "stdout",
     "output_type": "stream",
     "text": [
      "Base Model - Participant 1: Alpha = 0.1542285012914002, Lambda = 1.1319739711098875, Gamma = 0.4396552170105913\n"
     ]
    }
   ],
   "source": [
    "import pandas as pd\n",
    "import numpy as np\n",
    "\n",
    "# Assuming you've loaded your datasets\n",
    "base_model_df = pd.read_csv('full_stats.csv')\n",
    "sequence_model_df = pd.read_csv('Model_sequence_stats.csv')\n",
    "\n",
    "# Function to calculate individual-level statistics for Alpha, Lambda, and Gamma\n",
    "def calculate_individual_stats(df):\n",
    "    # Initialize dictionaries to store individual-level stats\n",
    "    alphas, lambdas, gammas = {}, {}, {}\n",
    "    \n",
    "    # Loop over each participant\n",
    "    for i in range(1, 50):  # Assuming participant indices go from 1 to 49\n",
    "        alpha_key = f'v_Intercept_subj.{i}'\n",
    "        v_gain_key = f'v_gain_subj.{i}'\n",
    "        v_loss_key = f'v_loss_subj.{i}'\n",
    "        gamma_key = f'z_subj.{i}'\n",
    "        \n",
    "        # Check if keys exist in the dataframe to handle missing data\n",
    "        if alpha_key in df['Unnamed: 0'].values and v_gain_key in df['Unnamed: 0'].values and v_loss_key in df['Unnamed: 0'].values:\n",
    "            alpha = df[df['Unnamed: 0'] == alpha_key]['mean'].values[0]\n",
    "            v_gain_mean = df[df['Unnamed: 0'] == v_gain_key]['mean'].values[0]\n",
    "            v_loss_mean = df[df['Unnamed: 0'] == v_loss_key]['mean'].values[0]\n",
    "            lambda_value = v_loss_mean / v_gain_mean\n",
    "            alphas[i] = alpha\n",
    "            lambdas[i] = lambda_value\n",
    "        \n",
    "        if gamma_key in df['Unnamed: 0'].values:\n",
    "            gamma = df[df['Unnamed: 0'] == gamma_key]['mean'].values[0]\n",
    "            gammas[i] = gamma\n",
    "    \n",
    "    return alphas, lambdas, gammas\n",
    "\n",
    "# Calculate the individual-level statistics for both models\n",
    "alphas_base, lambdas_base, gammas_base = calculate_individual_stats(base_model_df)\n",
    "alphas_sequence, lambdas_sequence, gammas_sequence = calculate_individual_stats(sequence_model_df)\n",
    "\n",
    "# Example: Print the Alpha, Lambda, and Gamma for the first participant in the base model\n",
    "print(f\"Base Model - Participant 1: Alpha = {alphas_base[1]}, Lambda = {lambdas_base[1]}, Gamma = {gammas_base.get(1, np.nan)}\")\n",
    "\n",
    "# You can similarly access and compare these values for all participants and between models as needed.\n"
   ]
  },
  {
   "cell_type": "code",
   "execution_count": 12,
   "id": "15d46706-7040-47f8-910a-382f0d2bfe9d",
   "metadata": {},
   "outputs": [
    {
     "ename": "AttributeError",
     "evalue": "'DataFrame' object has no attribute 'append'",
     "output_type": "error",
     "traceback": [
      "\u001b[0;31m---------------------------------------------------------------------------\u001b[0m",
      "\u001b[0;31mAttributeError\u001b[0m                            Traceback (most recent call last)",
      "Cell \u001b[0;32mIn [12], line 41\u001b[0m\n\u001b[1;32m     38\u001b[0m             \u001b[38;5;28mprint\u001b[39m(\u001b[38;5;124mf\u001b[39m\u001b[38;5;124m\"\u001b[39m\u001b[38;5;124mData for Participant \u001b[39m\u001b[38;5;132;01m{\u001b[39;00msubj_index\u001b[38;5;132;01m}\u001b[39;00m\u001b[38;5;124m in model \u001b[39m\u001b[38;5;132;01m{\u001b[39;00mmodel_name\u001b[38;5;132;01m}\u001b[39;00m\u001b[38;5;124m is incomplete.\u001b[39m\u001b[38;5;124m\"\u001b[39m)\n\u001b[1;32m     40\u001b[0m \u001b[38;5;66;03m# Calculate individual stats for both models and append\u001b[39;00m\n\u001b[0;32m---> 41\u001b[0m \u001b[43mappend_individual_stats\u001b[49m\u001b[43m(\u001b[49m\u001b[43mbase_model_df\u001b[49m\u001b[43m,\u001b[49m\u001b[43m \u001b[49m\u001b[38;5;124;43m'\u001b[39;49m\u001b[38;5;124;43mBase Model\u001b[39;49m\u001b[38;5;124;43m'\u001b[39;49m\u001b[43m)\u001b[49m\n\u001b[1;32m     42\u001b[0m append_individual_stats(sequence_model_df, \u001b[38;5;124m'\u001b[39m\u001b[38;5;124mModel with Trial Sequence\u001b[39m\u001b[38;5;124m'\u001b[39m)\n\u001b[1;32m     44\u001b[0m \u001b[38;5;66;03m# Save the individual-level comparison to a CSV file\u001b[39;00m\n",
      "Cell \u001b[0;32mIn [12], line 30\u001b[0m, in \u001b[0;36mappend_individual_stats\u001b[0;34m(df, model_name)\u001b[0m\n\u001b[1;32m     27\u001b[0m     gamma \u001b[38;5;241m=\u001b[39m base_model_df[base_model_df[\u001b[38;5;124m'\u001b[39m\u001b[38;5;124mUnnamed: 0\u001b[39m\u001b[38;5;124m'\u001b[39m] \u001b[38;5;241m==\u001b[39m z_key][\u001b[38;5;124m'\u001b[39m\u001b[38;5;124mmean\u001b[39m\u001b[38;5;124m'\u001b[39m]\u001b[38;5;241m.\u001b[39mvalues[\u001b[38;5;241m0\u001b[39m] \u001b[38;5;28;01mif\u001b[39;00m z_key \u001b[38;5;129;01min\u001b[39;00m base_model_df[\u001b[38;5;124m'\u001b[39m\u001b[38;5;124mUnnamed: 0\u001b[39m\u001b[38;5;124m'\u001b[39m]\u001b[38;5;241m.\u001b[39mvalues \u001b[38;5;28;01melse\u001b[39;00m \u001b[38;5;28;01mNone\u001b[39;00m\n\u001b[1;32m     29\u001b[0m     \u001b[38;5;66;03m# Append to the DataFrame\u001b[39;00m\n\u001b[0;32m---> 30\u001b[0m     individual_comparison \u001b[38;5;241m=\u001b[39m \u001b[43mindividual_comparison\u001b[49m\u001b[38;5;241;43m.\u001b[39;49m\u001b[43mappend\u001b[49m({\n\u001b[1;32m     31\u001b[0m         \u001b[38;5;124m'\u001b[39m\u001b[38;5;124mParticipant\u001b[39m\u001b[38;5;124m'\u001b[39m: subj_index,\n\u001b[1;32m     32\u001b[0m         \u001b[38;5;124m'\u001b[39m\u001b[38;5;124mModel\u001b[39m\u001b[38;5;124m'\u001b[39m: model_name,\n\u001b[1;32m     33\u001b[0m         \u001b[38;5;124m'\u001b[39m\u001b[38;5;124mAlpha\u001b[39m\u001b[38;5;124m'\u001b[39m: alpha,\n\u001b[1;32m     34\u001b[0m         \u001b[38;5;124m'\u001b[39m\u001b[38;5;124mLambda\u001b[39m\u001b[38;5;124m'\u001b[39m: lambda_value,\n\u001b[1;32m     35\u001b[0m         \u001b[38;5;124m'\u001b[39m\u001b[38;5;124mGamma\u001b[39m\u001b[38;5;124m'\u001b[39m: gamma\n\u001b[1;32m     36\u001b[0m     }, ignore_index\u001b[38;5;241m=\u001b[39m\u001b[38;5;28;01mTrue\u001b[39;00m)\n\u001b[1;32m     37\u001b[0m \u001b[38;5;28;01melse\u001b[39;00m:\n\u001b[1;32m     38\u001b[0m     \u001b[38;5;28mprint\u001b[39m(\u001b[38;5;124mf\u001b[39m\u001b[38;5;124m\"\u001b[39m\u001b[38;5;124mData for Participant \u001b[39m\u001b[38;5;132;01m{\u001b[39;00msubj_index\u001b[38;5;132;01m}\u001b[39;00m\u001b[38;5;124m in model \u001b[39m\u001b[38;5;132;01m{\u001b[39;00mmodel_name\u001b[38;5;132;01m}\u001b[39;00m\u001b[38;5;124m is incomplete.\u001b[39m\u001b[38;5;124m\"\u001b[39m)\n",
      "File \u001b[0;32m/opt/conda/lib/python3.8/site-packages/pandas/core/generic.py:5989\u001b[0m, in \u001b[0;36mNDFrame.__getattr__\u001b[0;34m(self, name)\u001b[0m\n\u001b[1;32m   5982\u001b[0m \u001b[38;5;28;01mif\u001b[39;00m (\n\u001b[1;32m   5983\u001b[0m     name \u001b[38;5;129;01mnot\u001b[39;00m \u001b[38;5;129;01min\u001b[39;00m \u001b[38;5;28mself\u001b[39m\u001b[38;5;241m.\u001b[39m_internal_names_set\n\u001b[1;32m   5984\u001b[0m     \u001b[38;5;129;01mand\u001b[39;00m name \u001b[38;5;129;01mnot\u001b[39;00m \u001b[38;5;129;01min\u001b[39;00m \u001b[38;5;28mself\u001b[39m\u001b[38;5;241m.\u001b[39m_metadata\n\u001b[1;32m   5985\u001b[0m     \u001b[38;5;129;01mand\u001b[39;00m name \u001b[38;5;129;01mnot\u001b[39;00m \u001b[38;5;129;01min\u001b[39;00m \u001b[38;5;28mself\u001b[39m\u001b[38;5;241m.\u001b[39m_accessors\n\u001b[1;32m   5986\u001b[0m     \u001b[38;5;129;01mand\u001b[39;00m \u001b[38;5;28mself\u001b[39m\u001b[38;5;241m.\u001b[39m_info_axis\u001b[38;5;241m.\u001b[39m_can_hold_identifiers_and_holds_name(name)\n\u001b[1;32m   5987\u001b[0m ):\n\u001b[1;32m   5988\u001b[0m     \u001b[38;5;28;01mreturn\u001b[39;00m \u001b[38;5;28mself\u001b[39m[name]\n\u001b[0;32m-> 5989\u001b[0m \u001b[38;5;28;01mreturn\u001b[39;00m \u001b[38;5;28;43mobject\u001b[39;49m\u001b[38;5;241;43m.\u001b[39;49m\u001b[38;5;21;43m__getattribute__\u001b[39;49m\u001b[43m(\u001b[49m\u001b[38;5;28;43mself\u001b[39;49m\u001b[43m,\u001b[49m\u001b[43m \u001b[49m\u001b[43mname\u001b[49m\u001b[43m)\u001b[49m\n",
      "\u001b[0;31mAttributeError\u001b[0m: 'DataFrame' object has no attribute 'append'"
     ]
    }
   ],
   "source": [
    "import pandas as pd\n",
    "\n",
    "# Load the datasets\n",
    "base_model_df = pd.read_csv('full_stats.csv')\n",
    "sequence_model_df = pd.read_csv('Model_sequence_stats.csv')\n",
    "\n",
    "# Initialize a DataFrame to store individual-level statistics for comparison\n",
    "individual_comparison = pd.DataFrame(columns=['Participant', 'Model', 'Alpha', 'Lambda', 'Gamma'])\n",
    "\n",
    "# Function to calculate individual stats and append to the DataFrame\n",
    "def append_individual_stats(df, model_name):\n",
    "    global individual_comparison\n",
    "    for subj_index in range(1, 50):  # Assuming 49 participants indexed from 1 to 49\n",
    "        alpha_key = f'v_Intercept_subj.{subj_index}'\n",
    "        v_gain_key = f'v_gain_subj.{subj_index}'\n",
    "        v_loss_key = f'v_loss_subj.{subj_index}'\n",
    "        z_key = f'z_subj.{subj_index}'\n",
    "\n",
    "        # Check if the keys exist in the dataframe to avoid KeyError\n",
    "        if alpha_key in df['Unnamed: 0'].values and v_gain_key in df['Unnamed: 0'].values and v_loss_key in df['Unnamed: 0'].values:\n",
    "            alpha = df[df['Unnamed: 0'] == alpha_key]['mean'].values[0]\n",
    "            v_gain = df[df['Unnamed: 0'] == v_gain_key]['mean'].values[0]\n",
    "            v_loss = df[df['Unnamed: 0'] == v_loss_key]['mean'].values[0]\n",
    "            lambda_value = v_loss / v_gain\n",
    "\n",
    "            # 'z' parameter might not change between models so it's taken from the base model\n",
    "            gamma = base_model_df[base_model_df['Unnamed: 0'] == z_key]['mean'].values[0] if z_key in base_model_df['Unnamed: 0'].values else None\n",
    "\n",
    "            # Append to the DataFrame\n",
    "            individual_comparison = individual_comparison.append({\n",
    "                'Participant': subj_index,\n",
    "                'Model': model_name,\n",
    "                'Alpha': alpha,\n",
    "                'Lambda': lambda_value,\n",
    "                'Gamma': gamma\n",
    "            }, ignore_index=True)\n",
    "        else:\n",
    "            print(f\"Data for Participant {subj_index} in model {model_name} is incomplete.\")\n",
    "\n",
    "# Calculate individual stats for both models and append\n",
    "append_individual_stats(base_model_df, 'Base Model')\n",
    "append_individual_stats(sequence_model_df, 'Model with Trial Sequence')\n",
    "\n",
    "# Save the individual-level comparison to a CSV file\n",
    "output_path = '/mnt/data/individual_level_comparison.csv'\n",
    "individual_comparison.to_csv(output_path, index=False)\n",
    "\n",
    "print(\"Individual-level comparison saved to\", output_path)\n"
   ]
  },
  {
   "cell_type": "code",
   "execution_count": null,
   "id": "f332b0a2-3e46-4e36-a853-5ef23695aeeb",
   "metadata": {},
   "outputs": [],
   "source": []
  }
 ],
 "metadata": {
  "kernelspec": {
   "display_name": "Python 3 (ipykernel)",
   "language": "python",
   "name": "python3"
  },
  "language_info": {
   "codemirror_mode": {
    "name": "ipython",
    "version": 3
   },
   "file_extension": ".py",
   "mimetype": "text/x-python",
   "name": "python",
   "nbconvert_exporter": "python",
   "pygments_lexer": "ipython3",
   "version": "3.8.13"
  }
 },
 "nbformat": 4,
 "nbformat_minor": 5
}
